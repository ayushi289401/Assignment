{
 "cells": [
  {
   "cell_type": "markdown",
   "metadata": {},
   "source": [
    "## Import Lib"
   ]
  },
  {
   "cell_type": "code",
   "execution_count": 1,
   "metadata": {},
   "outputs": [],
   "source": [
    "import pandas as pd\n",
    "import numpy as np\n",
    "import matplotlib.pyplot as plt\n",
    "import csv\n",
    "import re\n"
   ]
  },
  {
   "cell_type": "markdown",
   "metadata": {},
   "source": [
    "## Read Data from CSV"
   ]
  },
  {
   "cell_type": "code",
   "execution_count": 2,
   "metadata": {},
   "outputs": [
    {
     "data": {
      "text/html": [
       "<div>\n",
       "<style scoped>\n",
       "    .dataframe tbody tr th:only-of-type {\n",
       "        vertical-align: middle;\n",
       "    }\n",
       "\n",
       "    .dataframe tbody tr th {\n",
       "        vertical-align: top;\n",
       "    }\n",
       "\n",
       "    .dataframe thead th {\n",
       "        text-align: right;\n",
       "    }\n",
       "</style>\n",
       "<table border=\"1\" class=\"dataframe\">\n",
       "  <thead>\n",
       "    <tr style=\"text-align: right;\">\n",
       "      <th></th>\n",
       "      <th>transaction_id</th>\n",
       "      <th>affiliate_id</th>\n",
       "      <th>offer_id</th>\n",
       "      <th>datetime</th>\n",
       "      <th>ip</th>\n",
       "      <th>user_agent</th>\n",
       "      <th>country_code</th>\n",
       "      <th>device_model</th>\n",
       "      <th>device_os</th>\n",
       "      <th>device_os_version</th>\n",
       "      <th>ios_ifa</th>\n",
       "      <th>google_aid</th>\n",
       "    </tr>\n",
       "  </thead>\n",
       "  <tbody>\n",
       "    <tr>\n",
       "      <th>0</th>\n",
       "      <td>10227496c1e02a47413a940a54f71d</td>\n",
       "      <td>5087</td>\n",
       "      <td>32394</td>\n",
       "      <td>9/10/17 2:33</td>\n",
       "      <td>174.209.24.165</td>\n",
       "      <td>Mozilla/5.0 (iPhone; CPU IPhone OS 10_3_3 Like...</td>\n",
       "      <td>US</td>\n",
       "      <td>iPhone</td>\n",
       "      <td>iOS</td>\n",
       "      <td>10.3</td>\n",
       "      <td>NaN</td>\n",
       "      <td>NaN</td>\n",
       "    </tr>\n",
       "    <tr>\n",
       "      <th>1</th>\n",
       "      <td>102c9a956cc809df1e11c572f254bc</td>\n",
       "      <td>5087</td>\n",
       "      <td>32394</td>\n",
       "      <td>9/10/17 2:33</td>\n",
       "      <td>107.77.89.33</td>\n",
       "      <td>Mozilla/5.0 (iPhone; CPU IPhone OS 10_2_1 Like...</td>\n",
       "      <td>US</td>\n",
       "      <td>iPhone</td>\n",
       "      <td>iOS</td>\n",
       "      <td>10.2</td>\n",
       "      <td>NaN</td>\n",
       "      <td>NaN</td>\n",
       "    </tr>\n",
       "    <tr>\n",
       "      <th>2</th>\n",
       "      <td>1020255a5a856d72f0593359c7c56f</td>\n",
       "      <td>5087</td>\n",
       "      <td>32394</td>\n",
       "      <td>9/10/17 2:34</td>\n",
       "      <td>66.87.148.50</td>\n",
       "      <td>Mozilla/5.0 (iPhone; CPU IPhone OS 10_3_3 Like...</td>\n",
       "      <td>US</td>\n",
       "      <td>iPhone</td>\n",
       "      <td>iOS</td>\n",
       "      <td>10.3</td>\n",
       "      <td>NaN</td>\n",
       "      <td>NaN</td>\n",
       "    </tr>\n",
       "    <tr>\n",
       "      <th>3</th>\n",
       "      <td>102771c8d145a4168e2eac1215124b</td>\n",
       "      <td>5087</td>\n",
       "      <td>32394</td>\n",
       "      <td>9/10/17 2:34</td>\n",
       "      <td>172.58.224.168</td>\n",
       "      <td>Mozilla/5.0 (iPhone; CPU IPhone OS 10_2_1 Like...</td>\n",
       "      <td>US</td>\n",
       "      <td>iPhone</td>\n",
       "      <td>iOS</td>\n",
       "      <td>10.2</td>\n",
       "      <td>E2B52269-2D47-411B-B7F2-3655402CB07C</td>\n",
       "      <td>NaN</td>\n",
       "    </tr>\n",
       "    <tr>\n",
       "      <th>4</th>\n",
       "      <td>102a5e3bcdeecfed07154f605c5981</td>\n",
       "      <td>5087</td>\n",
       "      <td>32394</td>\n",
       "      <td>9/10/17 2:34</td>\n",
       "      <td>97.46.129.38</td>\n",
       "      <td>Mozilla/5.0 (iPhone; CPU IPhone OS 10_2_1 Like...</td>\n",
       "      <td>US</td>\n",
       "      <td>iPhone</td>\n",
       "      <td>iOS</td>\n",
       "      <td>10.2</td>\n",
       "      <td>NaN</td>\n",
       "      <td>NaN</td>\n",
       "    </tr>\n",
       "  </tbody>\n",
       "</table>\n",
       "</div>"
      ],
      "text/plain": [
       "                   transaction_id  affiliate_id  offer_id      datetime  \\\n",
       "0  10227496c1e02a47413a940a54f71d          5087     32394  9/10/17 2:33   \n",
       "1  102c9a956cc809df1e11c572f254bc          5087     32394  9/10/17 2:33   \n",
       "2  1020255a5a856d72f0593359c7c56f          5087     32394  9/10/17 2:34   \n",
       "3  102771c8d145a4168e2eac1215124b          5087     32394  9/10/17 2:34   \n",
       "4  102a5e3bcdeecfed07154f605c5981          5087     32394  9/10/17 2:34   \n",
       "\n",
       "               ip                                         user_agent  \\\n",
       "0  174.209.24.165  Mozilla/5.0 (iPhone; CPU IPhone OS 10_3_3 Like...   \n",
       "1    107.77.89.33  Mozilla/5.0 (iPhone; CPU IPhone OS 10_2_1 Like...   \n",
       "2    66.87.148.50  Mozilla/5.0 (iPhone; CPU IPhone OS 10_3_3 Like...   \n",
       "3  172.58.224.168  Mozilla/5.0 (iPhone; CPU IPhone OS 10_2_1 Like...   \n",
       "4    97.46.129.38  Mozilla/5.0 (iPhone; CPU IPhone OS 10_2_1 Like...   \n",
       "\n",
       "  country_code device_model device_os  device_os_version  \\\n",
       "0           US       iPhone       iOS               10.3   \n",
       "1           US       iPhone       iOS               10.2   \n",
       "2           US       iPhone       iOS               10.3   \n",
       "3           US       iPhone       iOS               10.2   \n",
       "4           US       iPhone       iOS               10.2   \n",
       "\n",
       "                                ios_ifa google_aid  \n",
       "0                                   NaN        NaN  \n",
       "1                                   NaN        NaN  \n",
       "2                                   NaN        NaN  \n",
       "3  E2B52269-2D47-411B-B7F2-3655402CB07C        NaN  \n",
       "4                                   NaN        NaN  "
      ]
     },
     "execution_count": 2,
     "metadata": {},
     "output_type": "execute_result"
    }
   ],
   "source": [
    "data = pd.read_csv('Desktop/Sample-click-log.csv',encoding='unicode_escape')\n",
    "data.head()"
   ]
  },
  {
   "cell_type": "markdown",
   "metadata": {},
   "source": [
    "## Check the columns in the dataframe"
   ]
  },
  {
   "cell_type": "code",
   "execution_count": 5,
   "metadata": {},
   "outputs": [
    {
     "data": {
      "text/plain": [
       "Index(['transaction_id', 'affiliate_id', 'offer_id', 'datetime', 'ip',\n",
       "       'user_agent', 'country_code', 'device_model', 'device_os',\n",
       "       'device_os_version', 'ios_ifa', 'google_aid'],\n",
       "      dtype='object')"
      ]
     },
     "execution_count": 5,
     "metadata": {},
     "output_type": "execute_result"
    }
   ],
   "source": [
    "data.columns"
   ]
  },
  {
   "cell_type": "markdown",
   "metadata": {},
   "source": [
    "## Questions 1(a)\n",
    "For every affiliate_id(Col B), calculate the unique ios_ifa(Col K) & google_aid(Col L) present in the data."
   ]
  },
  {
   "cell_type": "code",
   "execution_count": 6,
   "metadata": {},
   "outputs": [
    {
     "name": "stdout",
     "output_type": "stream",
     "text": [
      "Answer 1(a)\n",
      "              google_aid  ios_ifa\n",
      "affiliate_id                     \n",
      "1914                  19        0\n",
      "2882                  22      189\n",
      "4575                   0        0\n",
      "5087                 207     7534\n",
      "5281                  17        7\n",
      "6102               46188        0\n",
      "6380                   0        1\n",
      "6489                   3        2\n",
      "6507                   1        0\n",
      "6651                 178        0\n"
     ]
    }
   ],
   "source": [
    "print ('Answer 1(a)')\n",
    "aff_level_unique_device_df = data.groupby('affiliate_id')['google_aid','ios_ifa'].nunique()\n",
    "print (aff_level_unique_device_df)"
   ]
  },
  {
   "cell_type": "code",
   "execution_count": 7,
   "metadata": {},
   "outputs": [
    {
     "data": {
      "text/plain": [
       "Index(['google_aid', 'ios_ifa'], dtype='object')"
      ]
     },
     "execution_count": 7,
     "metadata": {},
     "output_type": "execute_result"
    }
   ],
   "source": [
    "aff_level_unique_device_df.columns"
   ]
  },
  {
   "cell_type": "code",
   "execution_count": 8,
   "metadata": {},
   "outputs": [],
   "source": [
    "aff_level_unique_device_df= aff_level_unique_device_df.reset_index()"
   ]
  },
  {
   "cell_type": "code",
   "execution_count": 9,
   "metadata": {},
   "outputs": [
    {
     "data": {
      "text/html": [
       "<div>\n",
       "<style scoped>\n",
       "    .dataframe tbody tr th:only-of-type {\n",
       "        vertical-align: middle;\n",
       "    }\n",
       "\n",
       "    .dataframe tbody tr th {\n",
       "        vertical-align: top;\n",
       "    }\n",
       "\n",
       "    .dataframe thead th {\n",
       "        text-align: right;\n",
       "    }\n",
       "</style>\n",
       "<table border=\"1\" class=\"dataframe\">\n",
       "  <thead>\n",
       "    <tr style=\"text-align: right;\">\n",
       "      <th></th>\n",
       "      <th>affiliate_id</th>\n",
       "      <th>google_aid</th>\n",
       "      <th>ios_ifa</th>\n",
       "    </tr>\n",
       "  </thead>\n",
       "  <tbody>\n",
       "    <tr>\n",
       "      <th>0</th>\n",
       "      <td>1914</td>\n",
       "      <td>19</td>\n",
       "      <td>0</td>\n",
       "    </tr>\n",
       "    <tr>\n",
       "      <th>1</th>\n",
       "      <td>2882</td>\n",
       "      <td>22</td>\n",
       "      <td>189</td>\n",
       "    </tr>\n",
       "    <tr>\n",
       "      <th>2</th>\n",
       "      <td>4575</td>\n",
       "      <td>0</td>\n",
       "      <td>0</td>\n",
       "    </tr>\n",
       "    <tr>\n",
       "      <th>3</th>\n",
       "      <td>5087</td>\n",
       "      <td>207</td>\n",
       "      <td>7534</td>\n",
       "    </tr>\n",
       "    <tr>\n",
       "      <th>4</th>\n",
       "      <td>5281</td>\n",
       "      <td>17</td>\n",
       "      <td>7</td>\n",
       "    </tr>\n",
       "  </tbody>\n",
       "</table>\n",
       "</div>"
      ],
      "text/plain": [
       "   affiliate_id  google_aid  ios_ifa\n",
       "0          1914          19        0\n",
       "1          2882          22      189\n",
       "2          4575           0        0\n",
       "3          5087         207     7534\n",
       "4          5281          17        7"
      ]
     },
     "execution_count": 9,
     "metadata": {},
     "output_type": "execute_result"
    }
   ],
   "source": [
    "aff_level_unique_device_df.head()"
   ]
  },
  {
   "cell_type": "markdown",
   "metadata": {},
   "source": [
    "## Question 1(b)\n",
    "Calculate how many valid google_aid & ios_ifa exist in the dataset."
   ]
  },
  {
   "cell_type": "code",
   "execution_count": 10,
   "metadata": {},
   "outputs": [
    {
     "data": {
      "text/plain": [
       "{tp_aaid}                                                       185\n",
       "Musi - Unlimited Free Music From YouTube (FREE App Download)     71\n",
       "b6066183a9cb4b8eb68ac6ea03ff8944                                 43\n",
       "undefined                                                        25\n",
       "Musi - Unlimited Music For YouTube                               22\n",
       "$IDFA                                                            22\n",
       "[idfa]                                                           16\n",
       "00000000-0000-0000-0000-000000000000                             13\n",
       "{gaid}                                                           10\n",
       "hk41qyp2-aq9b-gq5u-e931-p7353eddxfvf                              7\n",
       "aff_sub3                                                          7\n",
       "idfa                                                              6\n",
       "[gaid]                                                            6\n",
       "36aab253-20f2-4434-bb06-e39cc09b96d3                              4\n",
       "1DAE8CB5-C874-40C3-B7EE-D050D72711CF                              2\n",
       "510b940d-ecf5-43ca-9b05-5fd50d0069de                              2\n",
       "77A8B280-15F4-4DC1-B132-83C99862BE0E                              2\n",
       "082bfd68-21da-41aa-aadf-9f6537528c42                              2\n",
       "7ef89531-6982-4a43-ada3-f30be7b98af9                              2\n",
       "a48dd906-9c2c-4a84-935f-a9524a128f55                              2\n",
       "2a8e27f2-0e89-4d33-b6c8-9202582b4b43                              2\n",
       "37b07204-8b68-4815-b5b6-dac35cb54310                              2\n",
       "6d583eea-c430-4270-9e62-4b44af1a7322                              2\n",
       "A3E0F863-47D5-4F1E-B7DB-28ADED1D0A9A                              2\n",
       "7f6cb481-e73a-49c7-aae0-d1af79b345c6                              2\n",
       "4c73b1b9-783b-4ff0-b08e-0746fa56b23c                              2\n",
       "3c2f6de1-ebed-4e95-9df9-dff71badfc0c                              2\n",
       "3aabc2df-8f43-4407-a346-82af2d8a5373                              2\n",
       "734f3173-c556-42f6-9211-778b46f3b3da                              2\n",
       "9bb45506-0040-4bf1-8b29-925e80a7d0c4                              2\n",
       "                                                               ... \n",
       "a920a3e3-6a55-43b2-9daf-d23a74f62efc                              1\n",
       "815ac43c-0f7d-4e5e-92e1-c4c3db97a0ca                              1\n",
       "775409a3-0607-4689-9aea-f371a2e69192                              1\n",
       "36fd48d9-dbd4-457b-8815-f503aebd71c9                              1\n",
       "0a3564de-2ee9-40e6-83b9-cb3cef5845b6                              1\n",
       "55a00fde-11c5-4d5e-9f54-d0b5c558241f                              1\n",
       "bcb908b6-b78d-4ae6-9a2a-25e33b35faf4                              1\n",
       "096e567b-9aa8-40d9-b03d-7b9849d0967f                              1\n",
       "77310e54-2350-4b90-aca2-4062bc23fd65                              1\n",
       "bf57656a-0162-47bc-a641-2d8c4b90df2b                              1\n",
       "36049594-2e49-4b20-89d5-bf049fc512e6                              1\n",
       "0dcc0d1b-7f14-470e-9422-7fb9ead8bfec                              1\n",
       "b1cf9c00-28ae-430f-a39b-d9438e948003                              1\n",
       "babb0309-4120-4586-ab41-10ae6f327e6c                              1\n",
       "8e440262-98d1-4d91-af56-6817a7b3e542                              1\n",
       "7ee3f6d3-c634-4eac-a223-aa6ea87fa0e9                              1\n",
       "295b3dd7-1087-4db5-ad47-7d624ca67968                              1\n",
       "3db943ff-402b-404f-bbb3-d77c9b5cc5a3                              1\n",
       "d71adfb9-f72c-45fc-9cce-8f7040bf72c8                              1\n",
       "3a78aeb0-b6a6-40ac-96ed-611a2af02b18                              1\n",
       "005fd51d-8770-4ac0-b64c-ba90392470a6                              1\n",
       "67791c1f-094b-4079-80a6-44847e2d0a9d                              1\n",
       "3a1f3411-fb77-44d2-8359-ce5aa957f566                              1\n",
       "db98ddb6-0f09-4106-832a-f0ce4576a20e                              1\n",
       "96852a42-07c1-49a6-81ab-3cfeb32e24fd                              1\n",
       "f8171d0f-f7dd-4c0d-b6d1-f05b063ca590                              1\n",
       "b1f7b8b6-e4c7-4f2e-abe1-ffc207ca167f                              1\n",
       "c4c20e9c-206a-4fcb-9efa-fc9ec17d68e0                              1\n",
       "43e0208e-da27-4154-a9cc-c1b1d9ed60cd                              1\n",
       "c5080633-6ba5-456d-8c13-540b6bbd527c                              1\n",
       "Name: google_aid, Length: 46626, dtype: int64"
      ]
     },
     "execution_count": 10,
     "metadata": {},
     "output_type": "execute_result"
    }
   ],
   "source": [
    "data['google_aid'].value_counts()"
   ]
  },
  {
   "cell_type": "code",
   "execution_count": 11,
   "metadata": {},
   "outputs": [
    {
     "data": {
      "text/plain": [
       "True"
      ]
     },
     "execution_count": 11,
     "metadata": {},
     "output_type": "execute_result"
    }
   ],
   "source": [
    "data['google_aid'].isnull().values.any()"
   ]
  },
  {
   "cell_type": "markdown",
   "metadata": {},
   "source": [
    "## Method for checking Valid IDs"
   ]
  },
  {
   "cell_type": "code",
   "execution_count": 12,
   "metadata": {},
   "outputs": [],
   "source": [
    "def valid_google_aid(device_id):\n",
    "    if(device_id != device_id):\n",
    "        return False\n",
    "    regex = re.compile('^[a-f0-9]{8}-?[a-f0-9]{4}-?4[a-f0-9]{3}-?[89ab][a-f0-9]{3}-?[a-f0-9]{12}\\Z', re.I)\n",
    "    match = regex.match(device_id)\n",
    "    return bool(match)\n",
    "\n",
    "\n",
    "def valid_ios_ifa(device_id):\n",
    "    if(device_id != device_id):\n",
    "        return False\n",
    "    regex = re.compile('^[A-F0-9]{8}-?[A-F0-9]{4}-?4[A-F0-9]{3}-?[89AB][A-F0-9]{3}-?[A-F0-9]{12}\\Z', re.I)\n",
    "    match = regex.match(device_id)\n",
    "    return bool(match)"
   ]
  },
  {
   "cell_type": "code",
   "execution_count": 13,
   "metadata": {},
   "outputs": [
    {
     "data": {
      "text/plain": [
       "True"
      ]
     },
     "execution_count": 13,
     "metadata": {},
     "output_type": "execute_result"
    }
   ],
   "source": [
    "# Checking if google_aid has NAN or Null\n",
    "data['google_aid'].isnull().values.any()"
   ]
  },
  {
   "cell_type": "code",
   "execution_count": 14,
   "metadata": {},
   "outputs": [
    {
     "data": {
      "text/plain": [
       "True"
      ]
     },
     "execution_count": 14,
     "metadata": {},
     "output_type": "execute_result"
    }
   ],
   "source": [
    "# Checking if ios_ifa has NAN or Null\n",
    "data['ios_ifa'].isnull().values.any()"
   ]
  },
  {
   "cell_type": "code",
   "execution_count": 15,
   "metadata": {},
   "outputs": [],
   "source": [
    "data['valid_google_aid'] = data['google_aid'].apply(valid_google_aid)"
   ]
  },
  {
   "cell_type": "code",
   "execution_count": 16,
   "metadata": {},
   "outputs": [],
   "source": [
    "data['valid_ios_ifa'] = data['ios_ifa'].apply(valid_ios_ifa)"
   ]
  },
  {
   "cell_type": "code",
   "execution_count": 17,
   "metadata": {},
   "outputs": [
    {
     "data": {
      "text/html": [
       "<div>\n",
       "<style scoped>\n",
       "    .dataframe tbody tr th:only-of-type {\n",
       "        vertical-align: middle;\n",
       "    }\n",
       "\n",
       "    .dataframe tbody tr th {\n",
       "        vertical-align: top;\n",
       "    }\n",
       "\n",
       "    .dataframe thead th {\n",
       "        text-align: right;\n",
       "    }\n",
       "</style>\n",
       "<table border=\"1\" class=\"dataframe\">\n",
       "  <thead>\n",
       "    <tr style=\"text-align: right;\">\n",
       "      <th></th>\n",
       "      <th>transaction_id</th>\n",
       "      <th>affiliate_id</th>\n",
       "      <th>offer_id</th>\n",
       "      <th>datetime</th>\n",
       "      <th>ip</th>\n",
       "      <th>user_agent</th>\n",
       "      <th>country_code</th>\n",
       "      <th>device_model</th>\n",
       "      <th>device_os</th>\n",
       "      <th>device_os_version</th>\n",
       "      <th>ios_ifa</th>\n",
       "      <th>google_aid</th>\n",
       "      <th>valid_google_aid</th>\n",
       "      <th>valid_ios_ifa</th>\n",
       "    </tr>\n",
       "  </thead>\n",
       "  <tbody>\n",
       "    <tr>\n",
       "      <th>0</th>\n",
       "      <td>10227496c1e02a47413a940a54f71d</td>\n",
       "      <td>5087</td>\n",
       "      <td>32394</td>\n",
       "      <td>9/10/17 2:33</td>\n",
       "      <td>174.209.24.165</td>\n",
       "      <td>Mozilla/5.0 (iPhone; CPU IPhone OS 10_3_3 Like...</td>\n",
       "      <td>US</td>\n",
       "      <td>iPhone</td>\n",
       "      <td>iOS</td>\n",
       "      <td>10.3</td>\n",
       "      <td>NaN</td>\n",
       "      <td>NaN</td>\n",
       "      <td>False</td>\n",
       "      <td>False</td>\n",
       "    </tr>\n",
       "    <tr>\n",
       "      <th>1</th>\n",
       "      <td>102c9a956cc809df1e11c572f254bc</td>\n",
       "      <td>5087</td>\n",
       "      <td>32394</td>\n",
       "      <td>9/10/17 2:33</td>\n",
       "      <td>107.77.89.33</td>\n",
       "      <td>Mozilla/5.0 (iPhone; CPU IPhone OS 10_2_1 Like...</td>\n",
       "      <td>US</td>\n",
       "      <td>iPhone</td>\n",
       "      <td>iOS</td>\n",
       "      <td>10.2</td>\n",
       "      <td>NaN</td>\n",
       "      <td>NaN</td>\n",
       "      <td>False</td>\n",
       "      <td>False</td>\n",
       "    </tr>\n",
       "    <tr>\n",
       "      <th>2</th>\n",
       "      <td>1020255a5a856d72f0593359c7c56f</td>\n",
       "      <td>5087</td>\n",
       "      <td>32394</td>\n",
       "      <td>9/10/17 2:34</td>\n",
       "      <td>66.87.148.50</td>\n",
       "      <td>Mozilla/5.0 (iPhone; CPU IPhone OS 10_3_3 Like...</td>\n",
       "      <td>US</td>\n",
       "      <td>iPhone</td>\n",
       "      <td>iOS</td>\n",
       "      <td>10.3</td>\n",
       "      <td>NaN</td>\n",
       "      <td>NaN</td>\n",
       "      <td>False</td>\n",
       "      <td>False</td>\n",
       "    </tr>\n",
       "    <tr>\n",
       "      <th>3</th>\n",
       "      <td>102771c8d145a4168e2eac1215124b</td>\n",
       "      <td>5087</td>\n",
       "      <td>32394</td>\n",
       "      <td>9/10/17 2:34</td>\n",
       "      <td>172.58.224.168</td>\n",
       "      <td>Mozilla/5.0 (iPhone; CPU IPhone OS 10_2_1 Like...</td>\n",
       "      <td>US</td>\n",
       "      <td>iPhone</td>\n",
       "      <td>iOS</td>\n",
       "      <td>10.2</td>\n",
       "      <td>E2B52269-2D47-411B-B7F2-3655402CB07C</td>\n",
       "      <td>NaN</td>\n",
       "      <td>False</td>\n",
       "      <td>True</td>\n",
       "    </tr>\n",
       "    <tr>\n",
       "      <th>4</th>\n",
       "      <td>102a5e3bcdeecfed07154f605c5981</td>\n",
       "      <td>5087</td>\n",
       "      <td>32394</td>\n",
       "      <td>9/10/17 2:34</td>\n",
       "      <td>97.46.129.38</td>\n",
       "      <td>Mozilla/5.0 (iPhone; CPU IPhone OS 10_2_1 Like...</td>\n",
       "      <td>US</td>\n",
       "      <td>iPhone</td>\n",
       "      <td>iOS</td>\n",
       "      <td>10.2</td>\n",
       "      <td>NaN</td>\n",
       "      <td>NaN</td>\n",
       "      <td>False</td>\n",
       "      <td>False</td>\n",
       "    </tr>\n",
       "  </tbody>\n",
       "</table>\n",
       "</div>"
      ],
      "text/plain": [
       "                   transaction_id  affiliate_id  offer_id      datetime  \\\n",
       "0  10227496c1e02a47413a940a54f71d          5087     32394  9/10/17 2:33   \n",
       "1  102c9a956cc809df1e11c572f254bc          5087     32394  9/10/17 2:33   \n",
       "2  1020255a5a856d72f0593359c7c56f          5087     32394  9/10/17 2:34   \n",
       "3  102771c8d145a4168e2eac1215124b          5087     32394  9/10/17 2:34   \n",
       "4  102a5e3bcdeecfed07154f605c5981          5087     32394  9/10/17 2:34   \n",
       "\n",
       "               ip                                         user_agent  \\\n",
       "0  174.209.24.165  Mozilla/5.0 (iPhone; CPU IPhone OS 10_3_3 Like...   \n",
       "1    107.77.89.33  Mozilla/5.0 (iPhone; CPU IPhone OS 10_2_1 Like...   \n",
       "2    66.87.148.50  Mozilla/5.0 (iPhone; CPU IPhone OS 10_3_3 Like...   \n",
       "3  172.58.224.168  Mozilla/5.0 (iPhone; CPU IPhone OS 10_2_1 Like...   \n",
       "4    97.46.129.38  Mozilla/5.0 (iPhone; CPU IPhone OS 10_2_1 Like...   \n",
       "\n",
       "  country_code device_model device_os  device_os_version  \\\n",
       "0           US       iPhone       iOS               10.3   \n",
       "1           US       iPhone       iOS               10.2   \n",
       "2           US       iPhone       iOS               10.3   \n",
       "3           US       iPhone       iOS               10.2   \n",
       "4           US       iPhone       iOS               10.2   \n",
       "\n",
       "                                ios_ifa google_aid  valid_google_aid  \\\n",
       "0                                   NaN        NaN             False   \n",
       "1                                   NaN        NaN             False   \n",
       "2                                   NaN        NaN             False   \n",
       "3  E2B52269-2D47-411B-B7F2-3655402CB07C        NaN             False   \n",
       "4                                   NaN        NaN             False   \n",
       "\n",
       "   valid_ios_ifa  \n",
       "0          False  \n",
       "1          False  \n",
       "2          False  \n",
       "3           True  \n",
       "4          False  "
      ]
     },
     "execution_count": 17,
     "metadata": {},
     "output_type": "execute_result"
    }
   ],
   "source": [
    "data.head()"
   ]
  },
  {
   "cell_type": "markdown",
   "metadata": {},
   "source": [
    "## Valid IOS_IFA"
   ]
  },
  {
   "cell_type": "code",
   "execution_count": 18,
   "metadata": {},
   "outputs": [
    {
     "data": {
      "text/plain": [
       "8072"
      ]
     },
     "execution_count": 18,
     "metadata": {},
     "output_type": "execute_result"
    }
   ],
   "source": [
    "data[data['valid_ios_ifa']==True].shape[0]"
   ]
  },
  {
   "cell_type": "markdown",
   "metadata": {},
   "source": [
    "## Valid Google AID"
   ]
  },
  {
   "cell_type": "code",
   "execution_count": 19,
   "metadata": {},
   "outputs": [
    {
     "data": {
      "text/plain": [
       "46661"
      ]
     },
     "execution_count": 19,
     "metadata": {},
     "output_type": "execute_result"
    }
   ],
   "source": [
    "data[data['valid_google_aid']==True].shape[0]"
   ]
  },
  {
   "cell_type": "markdown",
   "metadata": {},
   "source": [
    "## Valid Device ID at affiliate id level"
   ]
  },
  {
   "cell_type": "code",
   "execution_count": 20,
   "metadata": {},
   "outputs": [
    {
     "data": {
      "text/html": [
       "<div>\n",
       "<style scoped>\n",
       "    .dataframe tbody tr th:only-of-type {\n",
       "        vertical-align: middle;\n",
       "    }\n",
       "\n",
       "    .dataframe tbody tr th {\n",
       "        vertical-align: top;\n",
       "    }\n",
       "\n",
       "    .dataframe thead th {\n",
       "        text-align: right;\n",
       "    }\n",
       "</style>\n",
       "<table border=\"1\" class=\"dataframe\">\n",
       "  <thead>\n",
       "    <tr style=\"text-align: right;\">\n",
       "      <th></th>\n",
       "      <th>valid_google_aid</th>\n",
       "      <th>valid_ios_ifa</th>\n",
       "    </tr>\n",
       "    <tr>\n",
       "      <th>affiliate_id</th>\n",
       "      <th></th>\n",
       "      <th></th>\n",
       "    </tr>\n",
       "  </thead>\n",
       "  <tbody>\n",
       "    <tr>\n",
       "      <th>1914</th>\n",
       "      <td>19.0</td>\n",
       "      <td>0.0</td>\n",
       "    </tr>\n",
       "    <tr>\n",
       "      <th>2882</th>\n",
       "      <td>12.0</td>\n",
       "      <td>179.0</td>\n",
       "    </tr>\n",
       "    <tr>\n",
       "      <th>4575</th>\n",
       "      <td>0.0</td>\n",
       "      <td>0.0</td>\n",
       "    </tr>\n",
       "    <tr>\n",
       "      <th>5087</th>\n",
       "      <td>191.0</td>\n",
       "      <td>7882.0</td>\n",
       "    </tr>\n",
       "    <tr>\n",
       "      <th>5281</th>\n",
       "      <td>17.0</td>\n",
       "      <td>8.0</td>\n",
       "    </tr>\n",
       "    <tr>\n",
       "      <th>6102</th>\n",
       "      <td>46240.0</td>\n",
       "      <td>0.0</td>\n",
       "    </tr>\n",
       "    <tr>\n",
       "      <th>6380</th>\n",
       "      <td>0.0</td>\n",
       "      <td>1.0</td>\n",
       "    </tr>\n",
       "    <tr>\n",
       "      <th>6489</th>\n",
       "      <td>3.0</td>\n",
       "      <td>2.0</td>\n",
       "    </tr>\n",
       "    <tr>\n",
       "      <th>6507</th>\n",
       "      <td>1.0</td>\n",
       "      <td>0.0</td>\n",
       "    </tr>\n",
       "    <tr>\n",
       "      <th>6651</th>\n",
       "      <td>178.0</td>\n",
       "      <td>0.0</td>\n",
       "    </tr>\n",
       "  </tbody>\n",
       "</table>\n",
       "</div>"
      ],
      "text/plain": [
       "              valid_google_aid  valid_ios_ifa\n",
       "affiliate_id                                 \n",
       "1914                      19.0            0.0\n",
       "2882                      12.0          179.0\n",
       "4575                       0.0            0.0\n",
       "5087                     191.0         7882.0\n",
       "5281                      17.0            8.0\n",
       "6102                   46240.0            0.0\n",
       "6380                       0.0            1.0\n",
       "6489                       3.0            2.0\n",
       "6507                       1.0            0.0\n",
       "6651                     178.0            0.0"
      ]
     },
     "execution_count": 20,
     "metadata": {},
     "output_type": "execute_result"
    }
   ],
   "source": [
    "aff_level_unique_valid_device_df = data.groupby('affiliate_id')['valid_google_aid','valid_ios_ifa'].sum()\n",
    "aff_level_unique_valid_device_df"
   ]
  },
  {
   "cell_type": "markdown",
   "metadata": {},
   "source": [
    "## Question 2(a)\n",
    "Plot a histogram from the data obtained from exercise 1.a)"
   ]
  },
  {
   "cell_type": "code",
   "execution_count": 21,
   "metadata": {},
   "outputs": [
    {
     "data": {
      "text/html": [
       "<div>\n",
       "<style scoped>\n",
       "    .dataframe tbody tr th:only-of-type {\n",
       "        vertical-align: middle;\n",
       "    }\n",
       "\n",
       "    .dataframe tbody tr th {\n",
       "        vertical-align: top;\n",
       "    }\n",
       "\n",
       "    .dataframe thead th {\n",
       "        text-align: right;\n",
       "    }\n",
       "</style>\n",
       "<table border=\"1\" class=\"dataframe\">\n",
       "  <thead>\n",
       "    <tr style=\"text-align: right;\">\n",
       "      <th></th>\n",
       "      <th>affiliate_id</th>\n",
       "      <th>google_aid</th>\n",
       "      <th>ios_ifa</th>\n",
       "    </tr>\n",
       "  </thead>\n",
       "  <tbody>\n",
       "    <tr>\n",
       "      <th>0</th>\n",
       "      <td>1914</td>\n",
       "      <td>19</td>\n",
       "      <td>0</td>\n",
       "    </tr>\n",
       "    <tr>\n",
       "      <th>1</th>\n",
       "      <td>2882</td>\n",
       "      <td>22</td>\n",
       "      <td>189</td>\n",
       "    </tr>\n",
       "    <tr>\n",
       "      <th>2</th>\n",
       "      <td>4575</td>\n",
       "      <td>0</td>\n",
       "      <td>0</td>\n",
       "    </tr>\n",
       "    <tr>\n",
       "      <th>3</th>\n",
       "      <td>5087</td>\n",
       "      <td>207</td>\n",
       "      <td>7534</td>\n",
       "    </tr>\n",
       "    <tr>\n",
       "      <th>4</th>\n",
       "      <td>5281</td>\n",
       "      <td>17</td>\n",
       "      <td>7</td>\n",
       "    </tr>\n",
       "  </tbody>\n",
       "</table>\n",
       "</div>"
      ],
      "text/plain": [
       "   affiliate_id  google_aid  ios_ifa\n",
       "0          1914          19        0\n",
       "1          2882          22      189\n",
       "2          4575           0        0\n",
       "3          5087         207     7534\n",
       "4          5281          17        7"
      ]
     },
     "execution_count": 21,
     "metadata": {},
     "output_type": "execute_result"
    }
   ],
   "source": [
    "aff_level_unique_device_df.head()"
   ]
  },
  {
   "cell_type": "code",
   "execution_count": 22,
   "metadata": {},
   "outputs": [
    {
     "data": {
      "image/png": "[encoded data removed]",
      "text/plain": [
       "<Figure size 432x288 with 1 Axes>"
      ]
     },
     "metadata": {
      "needs_background": "light"
     },
     "output_type": "display_data"
    }
   ],
   "source": [
    "aff_level_unique_device_df.plot(x='affiliate_id', y=['google_aid','ios_ifa'], kind='bar', legend=False)\n",
    "\n",
    "# Scaling this because some values are very small \n",
    "plt.yscale(\"log\")\n",
    "plt.show()"
   ]
  },
  {
   "cell_type": "markdown",
   "metadata": {},
   "source": [
    "## Question 2(b)\n",
    "2.2) Plot a histogram of the no. of clicks v/s affiliate_id in the dataset."
   ]
  },
  {
   "cell_type": "code",
   "execution_count": 23,
   "metadata": {},
   "outputs": [
    {
     "data": {
      "text/html": [
       "<div>\n",
       "<style scoped>\n",
       "    .dataframe tbody tr th:only-of-type {\n",
       "        vertical-align: middle;\n",
       "    }\n",
       "\n",
       "    .dataframe tbody tr th {\n",
       "        vertical-align: top;\n",
       "    }\n",
       "\n",
       "    .dataframe thead th {\n",
       "        text-align: right;\n",
       "    }\n",
       "</style>\n",
       "<table border=\"1\" class=\"dataframe\">\n",
       "  <thead>\n",
       "    <tr style=\"text-align: right;\">\n",
       "      <th></th>\n",
       "      <th>transaction_id</th>\n",
       "      <th>affiliate_id</th>\n",
       "      <th>offer_id</th>\n",
       "      <th>datetime</th>\n",
       "      <th>ip</th>\n",
       "      <th>user_agent</th>\n",
       "      <th>country_code</th>\n",
       "      <th>device_model</th>\n",
       "      <th>device_os</th>\n",
       "      <th>device_os_version</th>\n",
       "      <th>ios_ifa</th>\n",
       "      <th>google_aid</th>\n",
       "      <th>valid_google_aid</th>\n",
       "      <th>valid_ios_ifa</th>\n",
       "    </tr>\n",
       "  </thead>\n",
       "  <tbody>\n",
       "    <tr>\n",
       "      <th>0</th>\n",
       "      <td>10227496c1e02a47413a940a54f71d</td>\n",
       "      <td>5087</td>\n",
       "      <td>32394</td>\n",
       "      <td>9/10/17 2:33</td>\n",
       "      <td>174.209.24.165</td>\n",
       "      <td>Mozilla/5.0 (iPhone; CPU IPhone OS 10_3_3 Like...</td>\n",
       "      <td>US</td>\n",
       "      <td>iPhone</td>\n",
       "      <td>iOS</td>\n",
       "      <td>10.3</td>\n",
       "      <td>NaN</td>\n",
       "      <td>NaN</td>\n",
       "      <td>False</td>\n",
       "      <td>False</td>\n",
       "    </tr>\n",
       "    <tr>\n",
       "      <th>1</th>\n",
       "      <td>102c9a956cc809df1e11c572f254bc</td>\n",
       "      <td>5087</td>\n",
       "      <td>32394</td>\n",
       "      <td>9/10/17 2:33</td>\n",
       "      <td>107.77.89.33</td>\n",
       "      <td>Mozilla/5.0 (iPhone; CPU IPhone OS 10_2_1 Like...</td>\n",
       "      <td>US</td>\n",
       "      <td>iPhone</td>\n",
       "      <td>iOS</td>\n",
       "      <td>10.2</td>\n",
       "      <td>NaN</td>\n",
       "      <td>NaN</td>\n",
       "      <td>False</td>\n",
       "      <td>False</td>\n",
       "    </tr>\n",
       "  </tbody>\n",
       "</table>\n",
       "</div>"
      ],
      "text/plain": [
       "                   transaction_id  affiliate_id  offer_id      datetime  \\\n",
       "0  10227496c1e02a47413a940a54f71d          5087     32394  9/10/17 2:33   \n",
       "1  102c9a956cc809df1e11c572f254bc          5087     32394  9/10/17 2:33   \n",
       "\n",
       "               ip                                         user_agent  \\\n",
       "0  174.209.24.165  Mozilla/5.0 (iPhone; CPU IPhone OS 10_3_3 Like...   \n",
       "1    107.77.89.33  Mozilla/5.0 (iPhone; CPU IPhone OS 10_2_1 Like...   \n",
       "\n",
       "  country_code device_model device_os  device_os_version ios_ifa google_aid  \\\n",
       "0           US       iPhone       iOS               10.3     NaN        NaN   \n",
       "1           US       iPhone       iOS               10.2     NaN        NaN   \n",
       "\n",
       "   valid_google_aid  valid_ios_ifa  \n",
       "0             False          False  \n",
       "1             False          False  "
      ]
     },
     "execution_count": 23,
     "metadata": {},
     "output_type": "execute_result"
    }
   ],
   "source": [
    "data.head(2)"
   ]
  },
  {
   "cell_type": "code",
   "execution_count": 24,
   "metadata": {},
   "outputs": [],
   "source": [
    "affiliate_vise_clicks = data[['affiliate_id']].groupby('affiliate_id').size().rename('Clicks').reset_index()\n"
   ]
  },
  {
   "cell_type": "code",
   "execution_count": 25,
   "metadata": {},
   "outputs": [
    {
     "data": {
      "text/plain": [
       "Index(['affiliate_id', 'Clicks'], dtype='object')"
      ]
     },
     "execution_count": 25,
     "metadata": {},
     "output_type": "execute_result"
    }
   ],
   "source": [
    "affiliate_vise_clicks.columns"
   ]
  },
  {
   "cell_type": "code",
   "execution_count": 26,
   "metadata": {},
   "outputs": [
    {
     "name": "stdout",
     "output_type": "stream",
     "text": [
      "Answer 2(b)\n"
     ]
    },
    {
     "data": {
      "image/png": "[encoded data removed]",
      "text/plain": [
       "<Figure size 432x288 with 1 Axes>"
      ]
     },
     "metadata": {
      "needs_background": "light"
     },
     "output_type": "display_data"
    }
   ],
   "source": [
    "print('Answer 2(b)')\n",
    "\n",
    "affiliate_vise_clicks.plot(x='affiliate_id', y=['Clicks'], kind='bar', legend=False)\n",
    "\n",
    "# Scaling this because some values are very small \n",
    "plt.yscale(\"log\")\n",
    "plt.show()"
   ]
  },
  {
   "cell_type": "code",
   "execution_count": null,
   "metadata": {},
   "outputs": [],
   "source": []
  }
 ],
 "metadata": {
  "kernelspec": {
   "display_name": "Python 3",
   "language": "python",
   "name": "python3"
  },
  "language_info": {
   "codemirror_mode": {
    "name": "ipython",
    "version": 3
   },
   "file_extension": ".py",
   "mimetype": "text/x-python",
   "name": "python",
   "nbconvert_exporter": "python",
   "pygments_lexer": "ipython3",
   "version": "3.7.3"
  }
 },
 "nbformat": 4,
 "nbformat_minor": 2
}
